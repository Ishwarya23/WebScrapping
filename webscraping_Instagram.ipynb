{
 "cells": [
  {
   "cell_type": "code",
   "execution_count": 1,
   "metadata": {},
   "outputs": [
    {
     "name": "stdout",
     "output_type": "stream",
     "text": [
      "Requirement already satisfied: instagramy in c:\\users\\ishwarya\\anaconda3\\lib\\site-packages (4.4)\n"
     ]
    }
   ],
   "source": [
    "!pip install instagramy"
   ]
  },
  {
   "cell_type": "code",
   "execution_count": 2,
   "metadata": {},
   "outputs": [],
   "source": [
    "from instagramy import *"
   ]
  },
  {
   "cell_type": "code",
   "execution_count": 3,
   "metadata": {},
   "outputs": [],
   "source": [
    "user = InstagramUser(\"ml.india\")"
   ]
  },
  {
   "cell_type": "code",
   "execution_count": 4,
   "metadata": {},
   "outputs": [
    {
     "name": "stdout",
     "output_type": "stream",
     "text": [
      "user verified : False\n",
      "No of followers : 250360\n",
      "No of posts : 1269\n"
     ]
    }
   ],
   "source": [
    "print (\"user verified :\" , user.is_verified)\n",
    "print (\"No of followers :\" , user.number_of_followers)\n",
    "print (\"No of posts :\" , user.number_of_posts)"
   ]
  },
  {
   "cell_type": "code",
   "execution_count": 51,
   "metadata": {},
   "outputs": [
    {
     "name": "stdout",
     "output_type": "stream",
     "text": [
      "https://www.instagram.com/ml.india/\n",
      "Post(likes=1000, comments=7, caption=\"Photo by Machine Learning 🇮🇳 on June 24, 2021. May be a cartoon of one or more people and text that says 'SAVE POST FOR LATER! NeurOn Master business and data analytics in 5 months with ¡Neuron! Register: Link in bio! MARNING INDIA Machine Learning India Follow us: @ml.india'.\", is_video=False, timestamp=1624602816, location={'id': '109524955741121', 'has_public_page': True, 'name': 'India', 'slug': 'india'}, shortcode='CQiIMs6jLrs', post_url='https://www.instagram.com/p/CQiIMs6jLrs/', display_url='https://instagram.fixm2-1.fna.fbcdn.net/v/t51.2885-15/e35/206417239_323825339413091_5970960153214825967_n.jpg?tp=1&_nc_ht=instagram.fixm2-1.fna.fbcdn.net&_nc_cat=111&_nc_ohc=3NN0jYjWvjkAX9jDAxn&edm=ABfd0MgBAAAA&ccb=7-4&oh=e62369eb5d68481632b46f9815501cf1&oe=60DD9E1D&_nc_sid=7bff83', post_source='https://instagram.fixm2-1.fna.fbcdn.net/v/t51.2885-15/e35/206417239_323825339413091_5970960153214825967_n.jpg?tp=1&_nc_ht=instagram.fixm2-1.fna.fbcdn.net&_nc_cat=111&_nc_ohc=3NN0jYjWvjkAX9jDAxn&edm=ABfd0MgBAAAA&ccb=7-4&oh=e62369eb5d68481632b46f9815501cf1&oe=60DD9E1D&_nc_sid=7bff83', taken_at_timestamp=datetime.datetime(2021, 6, 25, 12, 3, 36))\n",
      "Likes for post :  1000\n",
      "Comments for post :  7\n",
      "Caption :  Photo by Machine Learning 🇮🇳 on June 24, 2021. May be a cartoon of one or more people and text that says 'SAVE POST FOR LATER! NeurOn Master business and data analytics in 5 months with ¡Neuron! Register: Link in bio! MARNING INDIA Machine Learning India Follow us: @ml.india'.\n",
      "\n",
      "\n",
      "Likes for post :  1408\n",
      "Comments for post :  8\n",
      "Caption :  Photo by Machine Learning 🇮🇳 in Bangalore, India. May be an image of text that says 'Top Python Libraries for Data Science, Data Visualization and Machine Learning 50000 10000 Annoy Apache Superset Scikit-Learn @ml.india LightGBM TpoT XGBoost Apache Spark Pandas sklearn Matplotlib Seaborn Plotly Catboost folium Optuna VisPy PyQtgraph 2000 Dask StatsModels scikit-optimize Scipy mipack 1000 500 Bokeh Altair + Numpy H20ai 200 YellowBrick 100 Type AutoML 200 Type 500 Contributors 1000 Explore/Explain 2000 Viz Source: Gregory Piatetsky via KDNuggets; visual represents each library by type, plotted stars and contributors, its symbol size reflective of the relative number of commits the library has on Github.'.\n",
      "\n",
      "\n",
      "Likes for post :  1843\n",
      "Comments for post :  8\n",
      "Caption :  Photo shared by Machine Learning 🇮🇳 on June 23, 2021 tagging @ml.india. May be an image of text that says 'SAVE POST FOR LATER! HIT LIKE! Myntra uses ML to hyper-personalize homepage banners to maximise sales! Swipe to learn! MACHINE INDIA LEARNING Machine Learning India Instagram: @ml.india'.\n",
      "\n",
      "\n",
      "Likes for post :  2129\n",
      "Comments for post :  9\n",
      "Caption :  Photo by Machine Learning 🇮🇳 in Bangalore, India. May be an image of text that says 'The Workflow of a Machine Learning Project The typical phases in the machine learning project workflow include data collection, data e-processing, building datasets, model training and refinement, evaluation, and deployment to production. Data SCADA Machine Algorithms Raw Data ata Pereprocessing Prepared Data 사 Feature Extraction Iterate until data Apply Algorithms ready Model Long Data Iterate for optimal model and hyperparameters Predictive Maintenance Build Model Ensemble Hit to support! Source: inventateq.com Model election Save for later!'.\n",
      "\n",
      "\n",
      "Likes for post :  4416\n",
      "Comments for post :  43\n",
      "Caption :  Photo by Machine Learning 🇮🇳 in Pune, Maharashtra. May be an image of 4 people and text that says 'Studying PCA for first time Studying PCA for 100th time'.\n",
      "\n",
      "\n",
      "Likes for post :  728\n",
      "Comments for post :  7\n",
      "Caption :  Photo by Machine Learning 🇮🇳 in Pune, Maharashtra. May be an image of 1 person and text that says 'MACHINE LEARNING INDIA Community Event: #5 Free webinar: An intersection between computer vision, graph theory and cricket! Mark your calendar! Sunday, 27th June. 11:00am- 12:00pm IST. We will be looking at how a CV framework segments cricket matches into clips based on context and constructs real- time graphs using meta-data from segmented clips. Register: bit.ly/mliweekly Sai Siddhartha Maram Incoming PhD student, University of California'.\n",
      "\n",
      "\n",
      "Likes for post :  1564\n",
      "Comments for post :  11\n",
      "Caption :  Photo by Machine Learning 🇮🇳 in Pune, Maharashtra. May be an image of text that says 'The Transformer Family Find the papers on all models in the following diagram on the lnk.t://tb.co/thunmp/PMpaprs Semi-supervised Sequence Learning context2Vec Pre-traineds seq2seq ULMFİT ELMo Multi-lingual MultiFiT Transformer Bidirectional LM GPT Cross- lingual Multi-task BERT Larger model More data XLM UDify MT-DNN +Generation GPT-2 Defense Grover MASS Knowledge distillation UniLM prediction Remove +Knowiędge Graph Cross-modal MT-DNNKD More/data .hleask Remoy NSP More VideoBERT CBT ViLBERT VisualBERT SpanBERT RoBERTa ERNIE (Tsinghua) XLNet Neural linker ERNIE (Baidu) BERT-wwm KnowBert LXMERT VL-BERT UNITER Hit to support! Source: The Transformer (Muppet) family Source: PLM Papers Xiaozhi Wang Zhengyan @THUNLP Save for later!'.\n",
      "\n",
      "\n",
      "Likes for post :  1585\n",
      "Comments for post :  6\n",
      "Caption :  Photo by Machine Learning 🇮🇳 in Pune, Maharashtra. May be an image of text that says 'Top Machine Learning Algorithms: Linear and logistic regression. Decision trees and random forests. Gradient boosting machines. Convolutional NNs. Bayesian approaches. ecen NNs. •Dense NNs and MLPs. Generative adversarial NNs. Transformer networks. Evolutionary approaches. Principal component analysis. Support vector machines. Hit to support! Save for later!'.\n",
      "\n",
      "\n",
      "Likes for post :  3562\n",
      "Comments for post :  20\n",
      "Caption :  Photo by Machine Learning 🇮🇳 in Bangalore, India. May be an image of bird and text that says 'Parrot> ML Algorithm A parrot @ml.india Machine learning algorithm Learns random phrases மய Doesn't understand shit about what it learns Occasionally speaks nonsense Is cute birdie parrot Support! Share'.\n",
      "\n",
      "\n",
      "Likes for post :  1790\n",
      "Comments for post :  19\n",
      "Caption :  Photo by Machine Learning 🇮🇳 on June 19, 2021. May be a cartoon of one or more people and text that says 'SAVE POST FOR LATER! FORSK TECHNOLOGIES 100 days online AI/ML training and internship by Forsk. Register: Link in bio! MACHINE INDIA INDIA Machine Learning India Follow us: @ml.india'.\n",
      "\n",
      "\n",
      "Likes for post :  1519\n",
      "Comments for post :  12\n",
      "Caption :  Photo shared by Machine Learning 🇮🇳 on June 18, 2021 tagging @qpiai.tech. May be a cartoon of one or more people and text that says 'SAVE POST FOR LATER! HIT LIKE! AI and Quantum Computing joint certification program: By IISC and QpiAl MACHINE LEARNING INDIA Machine Learning India Instagram: @ml.india'.\n",
      "\n",
      "\n",
      "Likes for post :  1967\n",
      "Comments for post :  38\n",
      "Caption :  Photo by Machine Learning 🇮🇳 in Pune, Maharashtra. May be an image of text that says 'Quick facts about MLI: India's largest social-media based AI/ML community with over 500,000 members. Established in 2018. •Female founded. Mission: Το build a vibrant Al ecosystem and talent pool in India. MACHINE LEARNING INDIA FOLLOW: @ML.INDIA'.\n",
      "\n",
      "\n",
      "12\n",
      "12\n"
     ]
    }
   ],
   "source": [
    "post = user.posts\n",
    "print(user.url)\n",
    "count = 0\n",
    "print (post[0])\n",
    "for i in post:\n",
    "    print (\"Likes for post : \" ,i[0])\n",
    "    print (\"Comments for post : \" ,i[1])\n",
    "    print (\"Caption : \" ,i[2])\n",
    "    print (\"\\n\")\n",
    "    count = count +1 \n",
    "\n",
    "print (len(post))\n",
    "print (count)"
   ]
  },
  {
   "cell_type": "code",
   "execution_count": null,
   "metadata": {},
   "outputs": [],
   "source": []
  }
 ],
 "metadata": {
  "kernelspec": {
   "display_name": "Python 3",
   "language": "python",
   "name": "python3"
  },
  "language_info": {
   "codemirror_mode": {
    "name": "ipython",
    "version": 3
   },
   "file_extension": ".py",
   "mimetype": "text/x-python",
   "name": "python",
   "nbconvert_exporter": "python",
   "pygments_lexer": "ipython3",
   "version": "3.7.9"
  }
 },
 "nbformat": 4,
 "nbformat_minor": 4
}
